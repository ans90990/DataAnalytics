{
  "nbformat": 4,
  "nbformat_minor": 0,
  "metadata": {
    "colab": {
      "provenance": [],
      "authorship_tag": "ABX9TyOR2Djzf2m6hcZm4EF65Z8m",
      "include_colab_link": true
    },
    "kernelspec": {
      "name": "python3",
      "display_name": "Python 3"
    },
    "language_info": {
      "name": "python"
    }
  },
  "cells": [
    {
      "cell_type": "markdown",
      "metadata": {
        "id": "view-in-github",
        "colab_type": "text"
      },
      "source": [
        "<a href=\"https://colab.research.google.com/github/ans90990/DataAnalytics/blob/main/ICP1.ipynb\" target=\"_parent\"><img src=\"https://colab.research.google.com/assets/colab-badge.svg\" alt=\"Open In Colab\"/></a>"
      ]
    },
    {
      "cell_type": "code",
      "execution_count": 2,
      "metadata": {
        "id": "QsjmiiqgvakZ",
        "colab": {
          "base_uri": "https://localhost:8080/"
        },
        "outputId": "ff021494-0d22-48b9-cf4c-ab06f08b9482"
      },
      "outputs": [
        {
          "output_type": "stream",
          "name": "stdout",
          "text": [
            "Enter Python: python\n",
            "htyp\n",
            "Enter first number3\n",
            "Enter second number4\n",
            "number 1  + number 2 = 7\n",
            "number 1 - number 2 = -1\n",
            "number 1 x number 2 = 12\n",
            "Number 1 / number 2 = 0.75\n",
            "Enter a sentance: python python sshshs\n",
            "pythons pythons sshshs\n",
            "Score: 90\n",
            "Grade: A\n"
          ]
        }
      ],
      "source": [
        "inString = input(\"Enter Python: \")\n",
        "backwards = inString[-3::-1]\n",
        "print(backwards)\n",
        "\n",
        "num1 = int(input(\"Enter first number\"))\n",
        "num2 = int(input(\"Enter second number\"))\n",
        "\n",
        "print(\"number 1  + number 2 = \", end = \"\")\n",
        "print(num1 + num2)\n",
        "print(\"number 1 - number 2 = \", end=\"\")\n",
        "print(num1 - num2)\n",
        "print(\"number 1 x number 2 = \", end=\"\")\n",
        "print(num1 * num2)\n",
        "print(\"Number 1 / number 2 = \", end = \"\")\n",
        "print(num1 / num2)\n",
        "\n",
        "sentance = input(\"Enter a sentance: \")\n",
        "print(sentance.replace(\"python\", \"pythons\"))\n",
        "\n",
        "score = int(input(\"Score: \"))\n",
        "\n",
        "if score >= 90:\n",
        "    print(\"Grade: A\")\n",
        "elif score >= 80:\n",
        "    print(\"Grade: B\")\n",
        "elif score >= 70:\n",
        "    print(\"Grade: C\")\n",
        "elif score >= 60:\n",
        "    print(\"Grade: D\")\n",
        "else:\n",
        "    print(\"Grade: F\")"
      ]
    }
  ]
}